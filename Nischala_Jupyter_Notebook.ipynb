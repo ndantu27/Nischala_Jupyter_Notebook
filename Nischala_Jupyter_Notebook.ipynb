{
 "cells": [
  {
   "cell_type": "markdown",
   "id": "6cbf32aa-2907-456b-80c3-4f53c21e5b2b",
   "metadata": {},
   "source": [
    "# My JupyterLite Data Science Tools Notebook\n"
   ]
  },
  {
   "cell_type": "markdown",
   "id": "669ee0d7-74f0-4d13-924a-15d120e30278",
   "metadata": {},
   "source": [
    "## Introduction\n",
    "This notebook contains basic exercises related to Data Science tools, languages, libraries, and simple calculations.\n"
   ]
  },
  {
   "cell_type": "markdown",
   "id": "ecab478a-19ba-4f31-8fed-8fa08de9e09b",
   "metadata": {},
   "source": [
    "### Data Science Languages\n",
    "- Python  \n",
    "- R  \n",
    "- SQL  \n"
   ]
  },
  {
   "cell_type": "markdown",
   "id": "5d4c5128-c6b2-45ae-a63a-6d8df12a743f",
   "metadata": {},
   "source": [
    "### Data Science Libraries\n",
    "- Pandas  \n",
    "- NumPy  \n",
    "- Matplotlib  \n",
    "- ggplot2  \n",
    "- dplyr  \n"
   ]
  },
  {
   "cell_type": "markdown",
   "id": "e7ad31c3-54a3-4c6d-b8da-dd2960aca9ca",
   "metadata": {},
   "source": [
    "### Data Science Tools\n",
    "\n",
    "| Category      | Tool Name         |\n",
    "|---------------|-------------------|\n",
    "| Data Cleaning | OpenRefine        |\n",
    "| IDE           | Jupyter Notebook  |\n",
    "| Visualization | Tableau           |\n"
   ]
  },
  {
   "cell_type": "markdown",
   "id": "80a06abd-45a0-43d3-a072-6d9c91022f0f",
   "metadata": {},
   "source": [
    "### Examples of Arithmetic Expressions\n",
    "Below are examples of simple arithmetic expressions using Python.\n"
   ]
  },
  {
   "cell_type": "code",
   "execution_count": null,
   "id": "76439cb9-ab7d-4dac-a9a9-3e6e4c5cfbd9",
   "metadata": {},
   "outputs": [],
   "source": [
    "print((5 * 4) + 3)"
   ]
  }
 ],
 "metadata": {
  "kernelspec": {
   "display_name": "Python 3 (ipykernel)",
   "language": "python",
   "name": "python3"
  },
  "language_info": {
   "codemirror_mode": {
    "name": "ipython",
    "version": 3
   },
   "file_extension": ".py",
   "mimetype": "text/x-python",
   "name": "python",
   "nbconvert_exporter": "python",
   "pygments_lexer": "ipython3",
   "version": "3.12.8"
  }
 },
 "nbformat": 4,
 "nbformat_minor": 5
}
